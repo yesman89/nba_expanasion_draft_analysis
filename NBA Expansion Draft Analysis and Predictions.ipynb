{
 "cells": [
  {
   "cell_type": "markdown",
   "metadata": {},
   "source": [
    "# Background"
   ]
  },
  {
   "cell_type": "markdown",
   "metadata": {},
   "source": [
    "Recently, there have been rumors of a two team expansion happeniing in the NBA for a price tag of $1 bilion dollars per team in order for the NBA to produce some more profit after last seasons losses due to Covid 10 and mainly not getting attendance revenue.\n",
    "\n",
    "These rumours made me curious on how the draft would look like and after asking some friends about basketball analysis ideas, they mentioned this and the curiosity came back to me on the topic.\n",
    "\n",
    "The last time there was a expansion draft was back in 2004 when the Charlotte Bobcats joined the league. I will be using the rules set in place for this expansion draft for my analysis\n",
    "\n",
    "The rules of the 2021 expansion draft for each team are as follows:\n",
    "\n",
    "- Expansion Draft will take place prior to NBA draft.\n",
    "\n",
    "- Each team will select a minimum of 14 players who are under contract or restricted free agents for    the 2020-21 season.\n",
    "\n",
    "- Each team may select no more than one player from each team.\n",
    "\n",
    "- Each team can only select players that are left unprotected by an NBA team.\n",
    "\n",
    "- Each of the 30 NBA teams may protect a maximum of eight players on its roster who are under contract or are restricted free agents at the conclusion of the 2020-21 season.\n",
    "\n",
    "- Each of the 30 NBA teams will designate the players on its roster who are eligible for selection by the Bobcats.\n",
    "\n",
    "- Each of the 30 NBA teams must designate at least two players on its roster to be eligible for selection by either of the expansion teams, even if the team does not have eight players under contract or as restricted free agents for the 2020-21 season.\n",
    "\n",
    "- Any player under contract selected by either expansion team will immediately be placed on the respective expansion team's roster.\n",
    "\n",
    "- Any eligible restricted free agent selected by either expansion team shall immediately become an unrestricted free agent.\n",
    "\n",
    "- Unrestricted free agents are not eligible to be protected nor are they eligible to be selected by either expansion team.\n",
    "\n",
    "Either expansion team will be have to be cognizant of the NBA salary cap and I will be setting that as the 2019-20 season salary cap of $109.14 million dollars"
   ]
  },
  {
   "cell_type": "markdown",
   "metadata": {},
   "source": [
    "# Data and Methodology of Choosing Who is Protected"
   ]
  },
  {
   "cell_type": "markdown",
   "metadata": {},
   "source": [
    "The data set will have the following columns: Name, Team, Position, Age, Salary Next Year, Years Left on Salary, Is the person a restricted free agent next year?\n",
    "\n",
    "I will also be chosing people on each team that are on the fringe of being protected and people that will obviously not be in the top 8 protected for each team to be in my dataset to save time.\n",
    "\n",
    "After I have my dataset"
   ]
  },
  {
   "cell_type": "markdown",
   "metadata": {},
   "source": [
    "# Sources"
   ]
  },
  {
   "cell_type": "markdown",
   "metadata": {},
   "source": [
    "2004 Expansion Draft rules: https://www.nba.com/hornets/news/draft_central_expansion_rules_summary.html\n",
    "\n",
    "Salary Cap information: https://cbabreakdown.com/salary-cap-overview#:~:text=The%20Salary%20Cap%20is%20calculated,isn't%20increased%20for%20the\n",
    "\n",
    "Data used in the project: https://www.basketball-reference.com/"
   ]
  }
 ],
 "metadata": {
  "kernelspec": {
   "display_name": "Python 3",
   "language": "python",
   "name": "python3"
  },
  "language_info": {
   "codemirror_mode": {
    "name": "ipython",
    "version": 3
   },
   "file_extension": ".py",
   "mimetype": "text/x-python",
   "name": "python",
   "nbconvert_exporter": "python",
   "pygments_lexer": "ipython3",
   "version": "3.6.1"
  }
 },
 "nbformat": 4,
 "nbformat_minor": 2
}
